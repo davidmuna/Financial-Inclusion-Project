{
  "nbformat": 4,
  "nbformat_minor": 0,
  "metadata": {
    "colab": {
      "name": "David Muna Core Week 2 IP",
      "provenance": [],
      "collapsed_sections": [
        "kLG2VTrnTvYL",
        "XecOwPNorl2W",
        "J4wfHZwQrs-t",
        "a9BPYqunry97",
        "7KMRBJ7zr9HD",
        "zSGyg6kWsBUl",
        "vTbdjSrhVIiT",
        "lQ2G4ZPDVOXE",
        "xrmHVMVsVS--",
        "HPQviDmNtta8",
        "qjFHK1CKty7o",
        "HSsicSdvt4Zs"
      ],
      "toc_visible": true,
      "include_colab_link": true
    },
    "kernelspec": {
      "name": "python3",
      "display_name": "Python 3"
    }
  },
  "cells": [
    {
      "cell_type": "markdown",
      "metadata": {
        "id": "view-in-github",
        "colab_type": "text"
      },
      "source": [
        "<a href=\"https://colab.research.google.com/github/davidmuna/Financial-Inclusion-Project/blob/master/David_Muna_Core_Week_2_IP.ipynb\" target=\"_parent\"><img src=\"https://colab.research.google.com/assets/colab-badge.svg\" alt=\"Open In Colab\"/></a>"
      ]
    },
    {
      "cell_type": "markdown",
      "metadata": {
        "id": "xMxtPsqcTsSH",
        "colab_type": "text"
      },
      "source": [
        "# State of Financial Inclusion in Kenya, Rwanda, Tanzania, and Uganda."
      ]
    },
    {
      "cell_type": "markdown",
      "metadata": {
        "id": "kLG2VTrnTvYL",
        "colab_type": "text"
      },
      "source": [
        "## 1. Defining the Question"
      ]
    },
    {
      "cell_type": "markdown",
      "metadata": {
        "id": "XecOwPNorl2W",
        "colab_type": "text"
      },
      "source": [
        "### a) Specifying the Data Analytic Question"
      ]
    },
    {
      "cell_type": "markdown",
      "metadata": {
        "id": "TKu3PiiOjpDG",
        "colab_type": "text"
      },
      "source": [
        "> Predicting which individuals are most likely to have or use a bank account \n"
      ]
    },
    {
      "cell_type": "markdown",
      "metadata": {
        "id": "J4wfHZwQrs-t",
        "colab_type": "text"
      },
      "source": [
        "### b) Defining the Metric for Success\n",
        "1.   To provide some key demographic factors that may drive individuals’ financial outcomes\n",
        "2.   To provide indicators of the state of financial inclusion in Kenya, Rwanda, Tanzania, and Uganda.\n",
        "3. To identify which individuals are more likely to open a bank account"
      ]
    },
    {
      "cell_type": "markdown",
      "metadata": {
        "id": "a9BPYqunry97",
        "colab_type": "text"
      },
      "source": [
        "### c) Understanding the context \n"
      ]
    },
    {
      "cell_type": "markdown",
      "metadata": {
        "id": "1dwMdbo2Bmd8",
        "colab_type": "text"
      },
      "source": [
        "> Financial Inclusion remains one of the main obstacles to economic and human development in Africa\n",
        "Despite the proliferation of mobile money in Africa and the growth of innovative fintech solutions, banks still play a pivotal role in facilitating access to financial services. Access to bank accounts enables households to save and facilitate payments while also helping businesses build up their credit-worthiness and improve their access to other financial services. \n",
        "My role as a Data Scientist is to predict which individuals are most likely to have or use a bank account and provide an indication of the state of financial inclusion in Kenya, Rwanda, Tanzania, and Uganda, while providing insights into some of the key demographic factors that might drive individuals’ financial outcomes.\n",
        "\n",
        "\n",
        "\n",
        "*   The Null hypothesis is that 9.1 million adults (or 13.9% of the adult population in Kenya, Rwanda, Uganda and Tanzania) have access to a bank account.\n",
        "\n"
      ]
    },
    {
      "cell_type": "markdown",
      "metadata": {
        "id": "7KMRBJ7zr9HD",
        "colab_type": "text"
      },
      "source": [
        "### d) Recording the Experimental Design"
      ]
    },
    {
      "cell_type": "markdown",
      "metadata": {
        "id": "-eSdPR4uDQ6t",
        "colab_type": "text"
      },
      "source": [
        "1.   To define the question, the metric for success, the context, experimental design taken and the appropriateness of the available data to answer the Data Analytic Question\n",
        "2.   To find and deal with outliers, anomalies, and missing data within the dataset.\n",
        "3.   To perform univariate, bivariate and multivariate analysis recording your observations.\n",
        "4. To implement the solution by performing factor analysis, principal component analysis, and discriminant analysis.\n",
        "5. To challenge my solution by providing insights on how improvements can be made."
      ]
    },
    {
      "cell_type": "markdown",
      "metadata": {
        "id": "zSGyg6kWsBUl",
        "colab_type": "text"
      },
      "source": [
        "### e) Data Relevance\n",
        "\n",
        "The dataset provided is relevant for performing univariate, bivariate, multivariate analysis and implementing solutions.  \n",
        "*   [Dataset link](http://bit.ly/FinancialDataset)\n",
        "*   [Dataset Description](http://bit.ly/VariableDefinitions)\n",
        "\n"
      ]
    },
    {
      "cell_type": "markdown",
      "metadata": {
        "id": "iUNbvIvnT7ep",
        "colab_type": "text"
      },
      "source": [
        "## 2. Reading the Data"
      ]
    },
    {
      "cell_type": "code",
      "metadata": {
        "id": "XJn2KjW-WMlG",
        "colab_type": "code",
        "colab": {}
      },
      "source": [
        "# Dataset url = http://bit.ly/FinancialDataset\n",
        "\n",
        "#importing the necessary libraries to be used in the analysis\n",
        "import pandas as pd\n",
        "import numpy as np\n",
        "import matplotlib.pyplot as plt\n",
        "\n",
        "import seaborn as sns\n",
        "\n",
        "#uncomment and run the line below if researchpy module not found\n",
        "!pip install -q researchpy \n",
        "\n",
        "import researchpy as rp\n",
        "from scipy import stats\n",
        "from sklearn import linear_model\n",
        "import statsmodels.api as sm"
      ],
      "execution_count": 309,
      "outputs": []
    },
    {
      "cell_type": "code",
      "metadata": {
        "id": "v_-RKfBGG8H9",
        "colab_type": "code",
        "colab": {
          "base_uri": "https://localhost:8080/",
          "height": 407
        },
        "outputId": "711c9799-5371-491a-a321-2ac498fd3eaf"
      },
      "source": [
        "#loading our dataframe description\n",
        "description = pd.read_csv(\"http://bit.ly/VariableDefinitions\")\n",
        "description"
      ],
      "execution_count": 302,
      "outputs": [
        {
          "output_type": "execute_result",
          "data": {
            "text/html": [
              "<div>\n",
              "<style scoped>\n",
              "    .dataframe tbody tr th:only-of-type {\n",
              "        vertical-align: middle;\n",
              "    }\n",
              "\n",
              "    .dataframe tbody tr th {\n",
              "        vertical-align: top;\n",
              "    }\n",
              "\n",
              "    .dataframe thead th {\n",
              "        text-align: right;\n",
              "    }\n",
              "</style>\n",
              "<table border=\"1\" class=\"dataframe\">\n",
              "  <thead>\n",
              "    <tr style=\"text-align: right;\">\n",
              "      <th></th>\n",
              "      <th>Variable Definitions</th>\n",
              "      <th>Unnamed: 1</th>\n",
              "    </tr>\n",
              "  </thead>\n",
              "  <tbody>\n",
              "    <tr>\n",
              "      <th>0</th>\n",
              "      <td>country</td>\n",
              "      <td>Country interviewee is in.</td>\n",
              "    </tr>\n",
              "    <tr>\n",
              "      <th>1</th>\n",
              "      <td>year</td>\n",
              "      <td>Year survey was done in.</td>\n",
              "    </tr>\n",
              "    <tr>\n",
              "      <th>2</th>\n",
              "      <td>uniqueid</td>\n",
              "      <td>Unique identifier for each interviewee</td>\n",
              "    </tr>\n",
              "    <tr>\n",
              "      <th>3</th>\n",
              "      <td>location_type</td>\n",
              "      <td>Type of location: Rural, Urban</td>\n",
              "    </tr>\n",
              "    <tr>\n",
              "      <th>4</th>\n",
              "      <td>cellphone_access</td>\n",
              "      <td>If interviewee has access to a cellphone: Yes, No</td>\n",
              "    </tr>\n",
              "    <tr>\n",
              "      <th>5</th>\n",
              "      <td>household_size</td>\n",
              "      <td>Number of people living in one house</td>\n",
              "    </tr>\n",
              "    <tr>\n",
              "      <th>6</th>\n",
              "      <td>age_of_respondent</td>\n",
              "      <td>The age of the interviewee</td>\n",
              "    </tr>\n",
              "    <tr>\n",
              "      <th>7</th>\n",
              "      <td>gender_of_respondent</td>\n",
              "      <td>Gender of interviewee: Male, Female</td>\n",
              "    </tr>\n",
              "    <tr>\n",
              "      <th>8</th>\n",
              "      <td>relationship_with_head</td>\n",
              "      <td>The interviewee’s relationship with the head o...</td>\n",
              "    </tr>\n",
              "    <tr>\n",
              "      <th>9</th>\n",
              "      <td>marital_status</td>\n",
              "      <td>The martial status of the interviewee: Married...</td>\n",
              "    </tr>\n",
              "    <tr>\n",
              "      <th>10</th>\n",
              "      <td>education_level</td>\n",
              "      <td>Highest level of education: No formal educatio...</td>\n",
              "    </tr>\n",
              "    <tr>\n",
              "      <th>11</th>\n",
              "      <td>job_type</td>\n",
              "      <td>Type of job interviewee has: Farming and Fishi...</td>\n",
              "    </tr>\n",
              "  </tbody>\n",
              "</table>\n",
              "</div>"
            ],
            "text/plain": [
              "      Variable Definitions                                         Unnamed: 1\n",
              "0                  country                         Country interviewee is in.\n",
              "1                     year                           Year survey was done in.\n",
              "2                 uniqueid             Unique identifier for each interviewee\n",
              "3            location_type                     Type of location: Rural, Urban\n",
              "4         cellphone_access  If interviewee has access to a cellphone: Yes, No\n",
              "5           household_size               Number of people living in one house\n",
              "6        age_of_respondent                         The age of the interviewee\n",
              "7     gender_of_respondent                Gender of interviewee: Male, Female\n",
              "8   relationship_with_head  The interviewee’s relationship with the head o...\n",
              "9           marital_status  The martial status of the interviewee: Married...\n",
              "10         education_level  Highest level of education: No formal educatio...\n",
              "11                job_type  Type of job interviewee has: Farming and Fishi..."
            ]
          },
          "metadata": {
            "tags": []
          },
          "execution_count": 302
        }
      ]
    },
    {
      "cell_type": "code",
      "metadata": {
        "id": "eoIdfSyJsvd3",
        "colab_type": "code",
        "colab": {}
      },
      "source": [
        "#loading our dataframe \n",
        "data = pd.read_csv(\"http://bit.ly/FinancialDataset\")"
      ],
      "execution_count": 303,
      "outputs": []
    },
    {
      "cell_type": "markdown",
      "metadata": {
        "id": "OI3P3YnHUEBk",
        "colab_type": "text"
      },
      "source": [
        "## 3. Checking the Data"
      ]
    },
    {
      "cell_type": "code",
      "metadata": {
        "id": "YjSVNwgptHxY",
        "colab_type": "code",
        "colab": {
          "base_uri": "https://localhost:8080/",
          "height": 34
        },
        "outputId": "a9432f7d-ef5a-4c2e-e77c-703c08762bea"
      },
      "source": [
        "# Determining the no. of records in our dataset\n",
        "data.shape"
      ],
      "execution_count": 304,
      "outputs": [
        {
          "output_type": "execute_result",
          "data": {
            "text/plain": [
              "(23524, 13)"
            ]
          },
          "metadata": {
            "tags": []
          },
          "execution_count": 304
        }
      ]
    },
    {
      "cell_type": "code",
      "metadata": {
        "id": "xHhTw5eKWr0n",
        "colab_type": "code",
        "colab": {
          "base_uri": "https://localhost:8080/",
          "height": 211
        },
        "outputId": "0f65ef6c-a0d1-48d7-a2e8-83307563f3a9"
      },
      "source": [
        "# Previewing the top of our dataset\n",
        "data.head(2)"
      ],
      "execution_count": 305,
      "outputs": [
        {
          "output_type": "execute_result",
          "data": {
            "text/html": [
              "<div>\n",
              "<style scoped>\n",
              "    .dataframe tbody tr th:only-of-type {\n",
              "        vertical-align: middle;\n",
              "    }\n",
              "\n",
              "    .dataframe tbody tr th {\n",
              "        vertical-align: top;\n",
              "    }\n",
              "\n",
              "    .dataframe thead th {\n",
              "        text-align: right;\n",
              "    }\n",
              "</style>\n",
              "<table border=\"1\" class=\"dataframe\">\n",
              "  <thead>\n",
              "    <tr style=\"text-align: right;\">\n",
              "      <th></th>\n",
              "      <th>country</th>\n",
              "      <th>year</th>\n",
              "      <th>uniqueid</th>\n",
              "      <th>Has a Bank account</th>\n",
              "      <th>Type of Location</th>\n",
              "      <th>Cell Phone Access</th>\n",
              "      <th>household_size</th>\n",
              "      <th>Respondent Age</th>\n",
              "      <th>gender_of_respondent</th>\n",
              "      <th>The relathip with head</th>\n",
              "      <th>marital_status</th>\n",
              "      <th>Level of Educuation</th>\n",
              "      <th>Type of Job</th>\n",
              "    </tr>\n",
              "  </thead>\n",
              "  <tbody>\n",
              "    <tr>\n",
              "      <th>0</th>\n",
              "      <td>Kenya</td>\n",
              "      <td>2018</td>\n",
              "      <td>uniqueid_1</td>\n",
              "      <td>Yes</td>\n",
              "      <td>Rural</td>\n",
              "      <td>Yes</td>\n",
              "      <td>3</td>\n",
              "      <td>24</td>\n",
              "      <td>Female</td>\n",
              "      <td>Spouse</td>\n",
              "      <td>Married/Living together</td>\n",
              "      <td>Secondary education</td>\n",
              "      <td>Self employed</td>\n",
              "    </tr>\n",
              "    <tr>\n",
              "      <th>1</th>\n",
              "      <td>Kenya</td>\n",
              "      <td>2018</td>\n",
              "      <td>uniqueid_2</td>\n",
              "      <td>No</td>\n",
              "      <td>Rural</td>\n",
              "      <td>No</td>\n",
              "      <td>5</td>\n",
              "      <td>70</td>\n",
              "      <td>Female</td>\n",
              "      <td>Head of Household</td>\n",
              "      <td>Widowed</td>\n",
              "      <td>No formal education</td>\n",
              "      <td>Government Dependent</td>\n",
              "    </tr>\n",
              "  </tbody>\n",
              "</table>\n",
              "</div>"
            ],
            "text/plain": [
              "  country  year  ...  Level of Educuation           Type of Job\n",
              "0   Kenya  2018  ...  Secondary education         Self employed\n",
              "1   Kenya  2018  ...  No formal education  Government Dependent\n",
              "\n",
              "[2 rows x 13 columns]"
            ]
          },
          "metadata": {
            "tags": []
          },
          "execution_count": 305
        }
      ]
    },
    {
      "cell_type": "code",
      "metadata": {
        "id": "e9AzGcZFrIIr",
        "colab_type": "code",
        "colab": {
          "base_uri": "https://localhost:8080/",
          "height": 211
        },
        "outputId": "96ecb863-f445-43b4-c626-d81085170d93"
      },
      "source": [
        "# Previewing the bottom of our dataset\n",
        "data.tail(2)"
      ],
      "execution_count": 306,
      "outputs": [
        {
          "output_type": "execute_result",
          "data": {
            "text/html": [
              "<div>\n",
              "<style scoped>\n",
              "    .dataframe tbody tr th:only-of-type {\n",
              "        vertical-align: middle;\n",
              "    }\n",
              "\n",
              "    .dataframe tbody tr th {\n",
              "        vertical-align: top;\n",
              "    }\n",
              "\n",
              "    .dataframe thead th {\n",
              "        text-align: right;\n",
              "    }\n",
              "</style>\n",
              "<table border=\"1\" class=\"dataframe\">\n",
              "  <thead>\n",
              "    <tr style=\"text-align: right;\">\n",
              "      <th></th>\n",
              "      <th>country</th>\n",
              "      <th>year</th>\n",
              "      <th>uniqueid</th>\n",
              "      <th>Has a Bank account</th>\n",
              "      <th>Type of Location</th>\n",
              "      <th>Cell Phone Access</th>\n",
              "      <th>household_size</th>\n",
              "      <th>Respondent Age</th>\n",
              "      <th>gender_of_respondent</th>\n",
              "      <th>The relathip with head</th>\n",
              "      <th>marital_status</th>\n",
              "      <th>Level of Educuation</th>\n",
              "      <th>Type of Job</th>\n",
              "    </tr>\n",
              "  </thead>\n",
              "  <tbody>\n",
              "    <tr>\n",
              "      <th>23522</th>\n",
              "      <td>Uganda</td>\n",
              "      <td>2018</td>\n",
              "      <td>uniqueid_2116</td>\n",
              "      <td>No</td>\n",
              "      <td>Urban</td>\n",
              "      <td>Yes</td>\n",
              "      <td>7</td>\n",
              "      <td>30</td>\n",
              "      <td>Female</td>\n",
              "      <td>Parent</td>\n",
              "      <td>Divorced/Seperated</td>\n",
              "      <td>Secondary education</td>\n",
              "      <td>Self employed</td>\n",
              "    </tr>\n",
              "    <tr>\n",
              "      <th>23523</th>\n",
              "      <td>Uganda</td>\n",
              "      <td>2018</td>\n",
              "      <td>uniqueid_2117</td>\n",
              "      <td>No</td>\n",
              "      <td>Rural</td>\n",
              "      <td>Yes</td>\n",
              "      <td>10</td>\n",
              "      <td>20</td>\n",
              "      <td>Male</td>\n",
              "      <td>Child</td>\n",
              "      <td>Single/Never Married</td>\n",
              "      <td>Secondary education</td>\n",
              "      <td>No Income</td>\n",
              "    </tr>\n",
              "  </tbody>\n",
              "</table>\n",
              "</div>"
            ],
            "text/plain": [
              "      country  year  ...  Level of Educuation    Type of Job\n",
              "23522  Uganda  2018  ...  Secondary education  Self employed\n",
              "23523  Uganda  2018  ...  Secondary education      No Income\n",
              "\n",
              "[2 rows x 13 columns]"
            ]
          },
          "metadata": {
            "tags": []
          },
          "execution_count": 306
        }
      ]
    },
    {
      "cell_type": "code",
      "metadata": {
        "id": "n8-dW4sQWzbc",
        "colab_type": "code",
        "colab": {
          "base_uri": "https://localhost:8080/",
          "height": 265
        },
        "outputId": "b6abc92c-dce7-4065-d574-d38031abc580"
      },
      "source": [
        "# Checking whether each column has an appropriate datatype\n",
        "data.dtypes\n",
        "\n",
        "#from results we will convert the float64 dtypes to integers"
      ],
      "execution_count": 310,
      "outputs": [
        {
          "output_type": "execute_result",
          "data": {
            "text/plain": [
              "country                    object\n",
              "year                        int64\n",
              "uniqueid                   object\n",
              "Has a Bank account         object\n",
              "Type of Location           object\n",
              "Cell Phone Access          object\n",
              "household_size            float64\n",
              "Respondent Age            float64\n",
              "gender_of_respondent       object\n",
              "The relathip with head     object\n",
              "marital_status             object\n",
              "Level of Educuation        object\n",
              "Type of Job                object\n",
              "dtype: object"
            ]
          },
          "metadata": {
            "tags": []
          },
          "execution_count": 310
        }
      ]
    },
    {
      "cell_type": "markdown",
      "metadata": {
        "id": "ckfufNrcUHeH",
        "colab_type": "text"
      },
      "source": [
        "## 4. External Data Source Validation"
      ]
    },
    {
      "cell_type": "markdown",
      "metadata": {
        "id": "6XC_g-zKxe-r",
        "colab_type": "text"
      },
      "source": [
        "### a.Validation\n",
        "\n",
        "A comparison was made with the following datasets\n",
        "*   [FinAccess Kenya 2018.](https://fsdkenya.org/publication/finaccess2019/)\n",
        "*   [Finscope Rwanda 2016.](http://www.statistics.gov.rw/publication/finscope-rwanda-2016)\n",
        "*   [Finscope Tanzania 2017.](http://www.fsdt.or.tz/finscope/)\n",
        "*   [Finscope Uganda 2018.](http://fsduganda.or.ug/finscope-2018-survey-report/)\n",
        "\n",
        "\n",
        "\n",
        "\n",
        "\n"
      ]
    },
    {
      "cell_type": "markdown",
      "metadata": {
        "id": "FlBMxEDBUc9B",
        "colab_type": "text"
      },
      "source": [
        "## 5. Tidying the Dataset"
      ]
    },
    {
      "cell_type": "code",
      "metadata": {
        "id": "AbT5hJTR0UUn",
        "colab_type": "code",
        "colab": {
          "base_uri": "https://localhost:8080/",
          "height": 495
        },
        "outputId": "fbeb7be3-4a28-41dc-b804-983662992481"
      },
      "source": [
        "# Checking for Outliers and dealing with them using boxplots the 1.5(IQR) criteria respectively\n",
        "#Viewing outliers in Year\n",
        "data.boxplot(column =['year'], grid = False) \n",
        "\n",
        "#Using skew to determine if theres a normal distribution\n",
        "print(\"\\n\", data['year'].skew())\n",
        "\n",
        "#Describing the data\n",
        "print(\"\\n\", data.describe())\n",
        "\n",
        "#Year has a high skew to the right and 3 points from boxplot indicating presence of outliers. We will remove these few outliers\n",
        "#eg years 2029, 2056 and 2039 which are Outliers"
      ],
      "execution_count": 311,
      "outputs": [
        {
          "output_type": "stream",
          "text": [
            "\n",
            " 4.222798310469757\n",
            "\n",
            "         year  household_size  Respondent Age\n",
            "count 23,524          23,496          23,490\n",
            "mean   2,017               4              39\n",
            "std        1               2              17\n",
            "min    2,016               0              16\n",
            "25%    2,016               2              26\n",
            "50%    2,017               3              35\n",
            "75%    2,018               5              49\n",
            "max    2,056              21             100\n"
          ],
          "name": "stdout"
        },
        {
          "output_type": "display_data",
          "data": {
            "image/png": "[encoded data removed]",
            "text/plain": [
              "<Figure size 432x288 with 1 Axes>"
            ]
          },
          "metadata": {
            "tags": []
          }
        }
      ]
    },
    {
      "cell_type": "code",
      "metadata": {
        "id": "5yle-OWg6g0g",
        "colab_type": "code",
        "colab": {
          "base_uri": "https://localhost:8080/",
          "height": 300
        },
        "outputId": "d17195e4-0019-4971-ccff-e055d18a286a"
      },
      "source": [
        "# Viewing outliers in Household Size\n",
        "data.boxplot(column =['household_size'], grid = False) \n",
        "\n",
        "#Using skew to determine if theres a normal distribution\n",
        "print(data['household_size'].skew())\n",
        "\n",
        "#household_size has a high skew and multiple points from boxplot indicating presence of many outliers. eg 21 Household members"
      ],
      "execution_count": 312,
      "outputs": [
        {
          "output_type": "stream",
          "text": [
            "0.977652354434429\n"
          ],
          "name": "stdout"
        },
        {
          "output_type": "display_data",
          "data": {
            "image/png": "[encoded data removed]",
            "text/plain": [
              "<Figure size 432x288 with 1 Axes>"
            ]
          },
          "metadata": {
            "tags": []
          }
        }
      ]
    },
    {
      "cell_type": "code",
      "metadata": {
        "id": "2-FAxFofRunM",
        "colab_type": "code",
        "colab": {
          "base_uri": "https://localhost:8080/",
          "height": 300
        },
        "outputId": "8802550a-6441-474a-fcf7-4f4b6995a930"
      },
      "source": [
        "#Respondent Age\n",
        "data.boxplot(column =['Respondent Age'], grid = False) \n",
        "\n",
        "#Using skew to determine if theres a normal distribution\n",
        "print(data['Respondent Age'].skew())\n",
        "\n",
        "#The age is skewed to the right indicating there're more older people in the population\n",
        "#We will retain these values since max age is at 100"
      ],
      "execution_count": 313,
      "outputs": [
        {
          "output_type": "stream",
          "text": [
            "0.8418012375387167\n"
          ],
          "name": "stdout"
        },
        {
          "output_type": "display_data",
          "data": {
            "image/png": "[encoded data removed]",
            "text/plain": [
              "<Figure size 432x288 with 1 Axes>"
            ]
          },
          "metadata": {
            "tags": []
          }
        }
      ]
    },
    {
      "cell_type": "code",
      "metadata": {
        "id": "PWlukLKUvFQN",
        "colab_type": "code",
        "colab": {
          "base_uri": "https://localhost:8080/",
          "height": 372
        },
        "outputId": "f270e3d3-e83b-48f3-be33-3414b3e0032d"
      },
      "source": [
        "# Checking for Anomalies\n",
        "\n",
        "#Unique values check\n",
        "print(data.nunique())\n",
        "\n",
        "#Based on dataset description in the link above, the year and level of education have anomalies.\n",
        "print(\"\\n\",data['year'].unique())\n",
        "print(\"\\n\", data['Level of Educuation'].unique())"
      ],
      "execution_count": 314,
      "outputs": [
        {
          "output_type": "stream",
          "text": [
            "country                      4\n",
            "year                         6\n",
            "uniqueid                  8735\n",
            "Has a Bank account           2\n",
            "Type of Location             2\n",
            "Cell Phone Access            2\n",
            "household_size              21\n",
            "Respondent Age              85\n",
            "gender_of_respondent         2\n",
            "The relathip with head       6\n",
            "marital_status               5\n",
            "Level of Educuation          7\n",
            "Type of Job                 10\n",
            "dtype: int64\n",
            "\n",
            " [2018 2029 2056 2016 2039 2017]\n",
            "\n",
            " ['Secondary education' 'No formal education'\n",
            " 'Vocational/Specialised training' 'Primary education'\n",
            " 'Tertiary education' 'Other/Dont know/RTA' '6' nan]\n"
          ],
          "name": "stdout"
        }
      ]
    },
    {
      "cell_type": "code",
      "metadata": {
        "id": "sn3Z-c-LgQb6",
        "colab_type": "code",
        "colab": {
          "base_uri": "https://localhost:8080/",
          "height": 87
        },
        "outputId": "a9e54877-3276-4df7-baa9-a3d2a0c79fba"
      },
      "source": [
        "#Replacing anomaly '6' in education column to 'Other/Dont know/RTA'\n",
        "\n",
        "data['Level of Educuation'].replace('6', 'Other/Dont know/RTA', inplace=True)\n",
        "print(\"\\n\", data['Level of Educuation'].unique())"
      ],
      "execution_count": 315,
      "outputs": [
        {
          "output_type": "stream",
          "text": [
            "\n",
            " ['Secondary education' 'No formal education'\n",
            " 'Vocational/Specialised training' 'Primary education'\n",
            " 'Tertiary education' 'Other/Dont know/RTA' nan]\n"
          ],
          "name": "stdout"
        }
      ]
    },
    {
      "cell_type": "code",
      "metadata": {
        "id": "9cuk9D7LW2qu",
        "colab_type": "code",
        "colab": {}
      },
      "source": [
        "#Dealing with Outliers using the 10th and 90th percentile to retain max Age of respondents as 100\n",
        "\n",
        "lowerquantile = data.quantile(0.10)\n",
        "upperquantile = data.quantile(0.90)\n",
        "Range = upperquantile - lowerquantile\n",
        "\n",
        "data__no_out = data[~((data < (lowerquantile - 1.5 * Range)) |(data > (upperquantile + 1.5 * Range)))]"
      ],
      "execution_count": 316,
      "outputs": []
    },
    {
      "cell_type": "code",
      "metadata": {
        "id": "PvCYb6dgW4yh",
        "colab_type": "code",
        "colab": {
          "base_uri": "https://localhost:8080/",
          "height": 265
        },
        "outputId": "db679ba7-a43f-4435-dadd-00bb6db530bb"
      },
      "source": [
        "# Identifying and dealing with the Missing Data\n",
        "data__no_out.isnull().sum()"
      ],
      "execution_count": 317,
      "outputs": [
        {
          "output_type": "execute_result",
          "data": {
            "text/plain": [
              "country                   14\n",
              "year                       3\n",
              "uniqueid                   0\n",
              "Has a Bank account        36\n",
              "Type of Location          15\n",
              "Cell Phone Access         11\n",
              "household_size            32\n",
              "Respondent Age            34\n",
              "gender_of_respondent      34\n",
              "The relathip with head     4\n",
              "marital_status            32\n",
              "Level of Educuation       29\n",
              "Type of Job               30\n",
              "dtype: int64"
            ]
          },
          "metadata": {
            "tags": []
          },
          "execution_count": 317
        }
      ]
    },
    {
      "cell_type": "code",
      "metadata": {
        "id": "MpsDGKZHsf_W",
        "colab_type": "code",
        "colab": {}
      },
      "source": [
        "# Dealing with the Missing Data\n",
        "data__no_out.isnull().sum()\n",
        "\n",
        "#Dropping Na values since they are not many compared to 23523 records\n",
        "data2 = data__no_out.dropna()"
      ],
      "execution_count": 319,
      "outputs": []
    },
    {
      "cell_type": "code",
      "metadata": {
        "id": "D-4I__6Os4C5",
        "colab_type": "code",
        "colab": {
          "base_uri": "https://localhost:8080/",
          "height": 354
        },
        "outputId": "1880105f-f3ba-489d-ae94-bd111bb68ed7"
      },
      "source": [
        "# More data cleaning procedures\n",
        "#Renaming Columns and dropping unique id column\n",
        "data3 = data2.rename(columns = {'Respondent Age':'age','Has a Bank account':'account','Type of Location':'location','Cell Phone Access':'phone_access','household_size':'household','gender_of_respondent':'r_gender','The relathip with head':'role','Level of Educuation':'education','Type of Job':'job_type'})\n",
        "data4 = data3.drop(columns=['uniqueid'])\n",
        "\n",
        "#Converting float datatypes to integers and year to str to remove comma in 2,018.\n",
        "pd.options.display.float_format = '{:,.0f}'.format\n",
        "cols = ['year', 'age', 'household']\n",
        "data4[cols] = data4[cols].applymap(np.int64)\n",
        "\n",
        "data4['year'] = data4['year'].astype(str) \n",
        "\n",
        "#Replacing min household number of zero with median value\n",
        "data4['household'] = data4['household'].replace([0], data4['household'].median())\n",
        "\n",
        "data4.info()"
      ],
      "execution_count": 347,
      "outputs": [
        {
          "output_type": "stream",
          "text": [
            "<class 'pandas.core.frame.DataFrame'>\n",
            "Int64Index: 23336 entries, 0 to 23523\n",
            "Data columns (total 12 columns):\n",
            " #   Column          Non-Null Count  Dtype \n",
            "---  ------          --------------  ----- \n",
            " 0   country         23336 non-null  object\n",
            " 1   year            23336 non-null  object\n",
            " 2   account         23336 non-null  object\n",
            " 3   location        23336 non-null  object\n",
            " 4   phone_access    23336 non-null  object\n",
            " 5   household       23336 non-null  int64 \n",
            " 6   age             23336 non-null  int64 \n",
            " 7   r_gender        23336 non-null  object\n",
            " 8   role            23336 non-null  object\n",
            " 9   marital_status  23336 non-null  object\n",
            " 10  education       23336 non-null  object\n",
            " 11  job_type        23336 non-null  object\n",
            "dtypes: int64(2), object(10)\n",
            "memory usage: 2.3+ MB\n"
          ],
          "name": "stdout"
        }
      ]
    },
    {
      "cell_type": "markdown",
      "metadata": {
        "id": "rF2ABPsHUtbZ",
        "colab_type": "text"
      },
      "source": [
        "## 6. Exploratory Analysis"
      ]
    },
    {
      "cell_type": "markdown",
      "metadata": {
        "id": "78xcgQnZbgzn",
        "colab_type": "text"
      },
      "source": [
        "######Univariate summaries to describe and record observations"
      ]
    },
    {
      "cell_type": "code",
      "metadata": {
        "id": "smVrEmRTkl2Z",
        "colab_type": "code",
        "colab": {
          "base_uri": "https://localhost:8080/",
          "height": 287
        },
        "outputId": "202295bd-728b-4967-e17d-92c20986effc"
      },
      "source": [
        "#Phone Access by country\n",
        "#p = data4.groupby('phone_access')['country'].value_counts()\n",
        "\n",
        "p = data4.groupby(['country','phone_access']).size().reset_index(name = 'frequency').rename(columns = {'0':''})\n",
        "p\n",
        "# Frequency table reveals Rwanda had highest number of respondents and Uganda the least"
      ],
      "execution_count": 322,
      "outputs": [
        {
          "output_type": "execute_result",
          "data": {
            "text/html": [
              "<div>\n",
              "<style scoped>\n",
              "    .dataframe tbody tr th:only-of-type {\n",
              "        vertical-align: middle;\n",
              "    }\n",
              "\n",
              "    .dataframe tbody tr th {\n",
              "        vertical-align: top;\n",
              "    }\n",
              "\n",
              "    .dataframe thead th {\n",
              "        text-align: right;\n",
              "    }\n",
              "</style>\n",
              "<table border=\"1\" class=\"dataframe\">\n",
              "  <thead>\n",
              "    <tr style=\"text-align: right;\">\n",
              "      <th></th>\n",
              "      <th>country</th>\n",
              "      <th>phone_access</th>\n",
              "      <th>frequency</th>\n",
              "    </tr>\n",
              "  </thead>\n",
              "  <tbody>\n",
              "    <tr>\n",
              "      <th>0</th>\n",
              "      <td>Kenya</td>\n",
              "      <td>No</td>\n",
              "      <td>1282</td>\n",
              "    </tr>\n",
              "    <tr>\n",
              "      <th>1</th>\n",
              "      <td>Kenya</td>\n",
              "      <td>Yes</td>\n",
              "      <td>4779</td>\n",
              "    </tr>\n",
              "    <tr>\n",
              "      <th>2</th>\n",
              "      <td>Rwanda</td>\n",
              "      <td>No</td>\n",
              "      <td>1477</td>\n",
              "    </tr>\n",
              "    <tr>\n",
              "      <th>3</th>\n",
              "      <td>Rwanda</td>\n",
              "      <td>Yes</td>\n",
              "      <td>7206</td>\n",
              "    </tr>\n",
              "    <tr>\n",
              "      <th>4</th>\n",
              "      <td>Tanzania</td>\n",
              "      <td>No</td>\n",
              "      <td>2613</td>\n",
              "    </tr>\n",
              "    <tr>\n",
              "      <th>5</th>\n",
              "      <td>Tanzania</td>\n",
              "      <td>Yes</td>\n",
              "      <td>3887</td>\n",
              "    </tr>\n",
              "    <tr>\n",
              "      <th>6</th>\n",
              "      <td>Uganda</td>\n",
              "      <td>No</td>\n",
              "      <td>634</td>\n",
              "    </tr>\n",
              "    <tr>\n",
              "      <th>7</th>\n",
              "      <td>Uganda</td>\n",
              "      <td>Yes</td>\n",
              "      <td>1458</td>\n",
              "    </tr>\n",
              "  </tbody>\n",
              "</table>\n",
              "</div>"
            ],
            "text/plain": [
              "    country phone_access  frequency\n",
              "0     Kenya           No       1282\n",
              "1     Kenya          Yes       4779\n",
              "2    Rwanda           No       1477\n",
              "3    Rwanda          Yes       7206\n",
              "4  Tanzania           No       2613\n",
              "5  Tanzania          Yes       3887\n",
              "6    Uganda           No        634\n",
              "7    Uganda          Yes       1458"
            ]
          },
          "metadata": {
            "tags": []
          },
          "execution_count": 322
        }
      ]
    },
    {
      "cell_type": "code",
      "metadata": {
        "id": "wrqbtEeAlk8A",
        "colab_type": "code",
        "colab": {
          "base_uri": "https://localhost:8080/",
          "height": 107
        },
        "outputId": "8573d901-52d5-4cd0-cd50-e039d7ff24c1"
      },
      "source": [
        "#Respondents location\n",
        "c = data4.location.value_counts()\n",
        "c.to_frame()\n",
        "c.reset_index(name = 'frequency').rename(columns = {'0':'', 'index':'location'})\n",
        "\n",
        "# Majority of respondents were from Rural areas"
      ],
      "execution_count": 323,
      "outputs": [
        {
          "output_type": "execute_result",
          "data": {
            "text/html": [
              "<div>\n",
              "<style scoped>\n",
              "    .dataframe tbody tr th:only-of-type {\n",
              "        vertical-align: middle;\n",
              "    }\n",
              "\n",
              "    .dataframe tbody tr th {\n",
              "        vertical-align: top;\n",
              "    }\n",
              "\n",
              "    .dataframe thead th {\n",
              "        text-align: right;\n",
              "    }\n",
              "</style>\n",
              "<table border=\"1\" class=\"dataframe\">\n",
              "  <thead>\n",
              "    <tr style=\"text-align: right;\">\n",
              "      <th></th>\n",
              "      <th>location</th>\n",
              "      <th>frequency</th>\n",
              "    </tr>\n",
              "  </thead>\n",
              "  <tbody>\n",
              "    <tr>\n",
              "      <th>0</th>\n",
              "      <td>Rural</td>\n",
              "      <td>14260</td>\n",
              "    </tr>\n",
              "    <tr>\n",
              "      <th>1</th>\n",
              "      <td>Urban</td>\n",
              "      <td>9076</td>\n",
              "    </tr>\n",
              "  </tbody>\n",
              "</table>\n",
              "</div>"
            ],
            "text/plain": [
              "  location  frequency\n",
              "0    Rural      14260\n",
              "1    Urban       9076"
            ]
          },
          "metadata": {
            "tags": []
          },
          "execution_count": 323
        }
      ]
    },
    {
      "cell_type": "code",
      "metadata": {
        "id": "jsoey8vgl6EN",
        "colab_type": "code",
        "colab": {
          "base_uri": "https://localhost:8080/",
          "height": 287
        },
        "outputId": "6a5689ab-4340-4abd-b97c-ebbf5bc1dd05"
      },
      "source": [
        "#Respondents location by country\n",
        "#a = data4.groupby('location')['country'].value_counts()\n",
        "\n",
        "a = data4.groupby(['country','location']).size().reset_index(name = 'frequency').rename(columns = {'0':''})\n",
        "a\n",
        "\n",
        "# Frequency table reveals Rwanda had highest number of respondents and Uganda the least"
      ],
      "execution_count": 324,
      "outputs": [
        {
          "output_type": "execute_result",
          "data": {
            "text/html": [
              "<div>\n",
              "<style scoped>\n",
              "    .dataframe tbody tr th:only-of-type {\n",
              "        vertical-align: middle;\n",
              "    }\n",
              "\n",
              "    .dataframe tbody tr th {\n",
              "        vertical-align: top;\n",
              "    }\n",
              "\n",
              "    .dataframe thead th {\n",
              "        text-align: right;\n",
              "    }\n",
              "</style>\n",
              "<table border=\"1\" class=\"dataframe\">\n",
              "  <thead>\n",
              "    <tr style=\"text-align: right;\">\n",
              "      <th></th>\n",
              "      <th>country</th>\n",
              "      <th>location</th>\n",
              "      <th>frequency</th>\n",
              "    </tr>\n",
              "  </thead>\n",
              "  <tbody>\n",
              "    <tr>\n",
              "      <th>0</th>\n",
              "      <td>Kenya</td>\n",
              "      <td>Rural</td>\n",
              "      <td>3539</td>\n",
              "    </tr>\n",
              "    <tr>\n",
              "      <th>1</th>\n",
              "      <td>Kenya</td>\n",
              "      <td>Urban</td>\n",
              "      <td>2522</td>\n",
              "    </tr>\n",
              "    <tr>\n",
              "      <th>2</th>\n",
              "      <td>Rwanda</td>\n",
              "      <td>Rural</td>\n",
              "      <td>7441</td>\n",
              "    </tr>\n",
              "    <tr>\n",
              "      <th>3</th>\n",
              "      <td>Rwanda</td>\n",
              "      <td>Urban</td>\n",
              "      <td>1242</td>\n",
              "    </tr>\n",
              "    <tr>\n",
              "      <th>4</th>\n",
              "      <td>Tanzania</td>\n",
              "      <td>Rural</td>\n",
              "      <td>1776</td>\n",
              "    </tr>\n",
              "    <tr>\n",
              "      <th>5</th>\n",
              "      <td>Tanzania</td>\n",
              "      <td>Urban</td>\n",
              "      <td>4724</td>\n",
              "    </tr>\n",
              "    <tr>\n",
              "      <th>6</th>\n",
              "      <td>Uganda</td>\n",
              "      <td>Rural</td>\n",
              "      <td>1504</td>\n",
              "    </tr>\n",
              "    <tr>\n",
              "      <th>7</th>\n",
              "      <td>Uganda</td>\n",
              "      <td>Urban</td>\n",
              "      <td>588</td>\n",
              "    </tr>\n",
              "  </tbody>\n",
              "</table>\n",
              "</div>"
            ],
            "text/plain": [
              "    country location  frequency\n",
              "0     Kenya    Rural       3539\n",
              "1     Kenya    Urban       2522\n",
              "2    Rwanda    Rural       7441\n",
              "3    Rwanda    Urban       1242\n",
              "4  Tanzania    Rural       1776\n",
              "5  Tanzania    Urban       4724\n",
              "6    Uganda    Rural       1504\n",
              "7    Uganda    Urban        588"
            ]
          },
          "metadata": {
            "tags": []
          },
          "execution_count": 324
        }
      ]
    },
    {
      "cell_type": "code",
      "metadata": {
        "id": "Wr3Oz6TOyUiY",
        "colab_type": "code",
        "colab": {
          "base_uri": "https://localhost:8080/",
          "height": 167
        },
        "outputId": "cdb72667-1811-486a-a035-e688a166a71d"
      },
      "source": [
        "#Respondents with accounts by location\n",
        "#e = data4.groupby('location')['account'].value_counts()\n",
        "\n",
        "e = data4.groupby(['location','account']).size().reset_index(name = 'frequency').rename(columns = {'0':''})\n",
        "e\n",
        "\n",
        "#Frequency table below suggests that being in an urban/rural area does not equate to financial inclusion/account access"
      ],
      "execution_count": 325,
      "outputs": [
        {
          "output_type": "execute_result",
          "data": {
            "text/html": [
              "<div>\n",
              "<style scoped>\n",
              "    .dataframe tbody tr th:only-of-type {\n",
              "        vertical-align: middle;\n",
              "    }\n",
              "\n",
              "    .dataframe tbody tr th {\n",
              "        vertical-align: top;\n",
              "    }\n",
              "\n",
              "    .dataframe thead th {\n",
              "        text-align: right;\n",
              "    }\n",
              "</style>\n",
              "<table border=\"1\" class=\"dataframe\">\n",
              "  <thead>\n",
              "    <tr style=\"text-align: right;\">\n",
              "      <th></th>\n",
              "      <th>location</th>\n",
              "      <th>account</th>\n",
              "      <th>frequency</th>\n",
              "    </tr>\n",
              "  </thead>\n",
              "  <tbody>\n",
              "    <tr>\n",
              "      <th>0</th>\n",
              "      <td>Rural</td>\n",
              "      <td>No</td>\n",
              "      <td>12597</td>\n",
              "    </tr>\n",
              "    <tr>\n",
              "      <th>1</th>\n",
              "      <td>Rural</td>\n",
              "      <td>Yes</td>\n",
              "      <td>1663</td>\n",
              "    </tr>\n",
              "    <tr>\n",
              "      <th>2</th>\n",
              "      <td>Urban</td>\n",
              "      <td>No</td>\n",
              "      <td>7444</td>\n",
              "    </tr>\n",
              "    <tr>\n",
              "      <th>3</th>\n",
              "      <td>Urban</td>\n",
              "      <td>Yes</td>\n",
              "      <td>1632</td>\n",
              "    </tr>\n",
              "  </tbody>\n",
              "</table>\n",
              "</div>"
            ],
            "text/plain": [
              "  location account  frequency\n",
              "0    Rural      No      12597\n",
              "1    Rural     Yes       1663\n",
              "2    Urban      No       7444\n",
              "3    Urban     Yes       1632"
            ]
          },
          "metadata": {
            "tags": []
          },
          "execution_count": 325
        }
      ]
    },
    {
      "cell_type": "code",
      "metadata": {
        "id": "GA5psV_6TmzI",
        "colab_type": "code",
        "colab": {
          "base_uri": "https://localhost:8080/",
          "height": 197
        },
        "outputId": "95519938-b21d-4410-8ecc-155af6f9f51d"
      },
      "source": [
        "#Respondents with accounts by job_type\n",
        "#e = data4.groupby('location')['account'].value_counts()\n",
        "\n",
        "m = data4.groupby(['account','job_type']).size().reset_index(name = 'frequency').rename(columns = {'0':''})\n",
        "m.head()\n",
        "\n",
        "#See Bivariate analysis for interpretation"
      ],
      "execution_count": 328,
      "outputs": [
        {
          "output_type": "execute_result",
          "data": {
            "text/html": [
              "<div>\n",
              "<style scoped>\n",
              "    .dataframe tbody tr th:only-of-type {\n",
              "        vertical-align: middle;\n",
              "    }\n",
              "\n",
              "    .dataframe tbody tr th {\n",
              "        vertical-align: top;\n",
              "    }\n",
              "\n",
              "    .dataframe thead th {\n",
              "        text-align: right;\n",
              "    }\n",
              "</style>\n",
              "<table border=\"1\" class=\"dataframe\">\n",
              "  <thead>\n",
              "    <tr style=\"text-align: right;\">\n",
              "      <th></th>\n",
              "      <th>account</th>\n",
              "      <th>job_type</th>\n",
              "      <th>frequency</th>\n",
              "    </tr>\n",
              "  </thead>\n",
              "  <tbody>\n",
              "    <tr>\n",
              "      <th>0</th>\n",
              "      <td>No</td>\n",
              "      <td>Dont Know/Refuse to answer</td>\n",
              "      <td>111</td>\n",
              "    </tr>\n",
              "    <tr>\n",
              "      <th>1</th>\n",
              "      <td>No</td>\n",
              "      <td>Farming and Fishing</td>\n",
              "      <td>4788</td>\n",
              "    </tr>\n",
              "    <tr>\n",
              "      <th>2</th>\n",
              "      <td>No</td>\n",
              "      <td>Formally employed Government</td>\n",
              "      <td>87</td>\n",
              "    </tr>\n",
              "    <tr>\n",
              "      <th>3</th>\n",
              "      <td>No</td>\n",
              "      <td>Formally employed Private</td>\n",
              "      <td>481</td>\n",
              "    </tr>\n",
              "    <tr>\n",
              "      <th>4</th>\n",
              "      <td>No</td>\n",
              "      <td>Government Dependent</td>\n",
              "      <td>197</td>\n",
              "    </tr>\n",
              "  </tbody>\n",
              "</table>\n",
              "</div>"
            ],
            "text/plain": [
              "  account                      job_type  frequency\n",
              "0      No    Dont Know/Refuse to answer        111\n",
              "1      No           Farming and Fishing       4788\n",
              "2      No  Formally employed Government         87\n",
              "3      No     Formally employed Private        481\n",
              "4      No          Government Dependent        197"
            ]
          },
          "metadata": {
            "tags": []
          },
          "execution_count": 328
        }
      ]
    },
    {
      "cell_type": "code",
      "metadata": {
        "id": "jVa2wo-u_6SF",
        "colab_type": "code",
        "colab": {
          "base_uri": "https://localhost:8080/",
          "height": 167
        },
        "outputId": "194924da-6870-4836-df06-433b5c2e4b58"
      },
      "source": [
        "#Respondents with accounts and phone_access\n",
        "#e = data4.groupby('account')['phone_access'].value_counts()\n",
        "\n",
        "f = data4.groupby(['phone_access','account']).size().reset_index(name = 'frequency').rename(columns = {'0':''})\n",
        "f\n",
        "\n",
        "#Frequency table below suggests that having a phone or not does not equate to financial inclusion/account access"
      ],
      "execution_count": 329,
      "outputs": [
        {
          "output_type": "execute_result",
          "data": {
            "text/html": [
              "<div>\n",
              "<style scoped>\n",
              "    .dataframe tbody tr th:only-of-type {\n",
              "        vertical-align: middle;\n",
              "    }\n",
              "\n",
              "    .dataframe tbody tr th {\n",
              "        vertical-align: top;\n",
              "    }\n",
              "\n",
              "    .dataframe thead th {\n",
              "        text-align: right;\n",
              "    }\n",
              "</style>\n",
              "<table border=\"1\" class=\"dataframe\">\n",
              "  <thead>\n",
              "    <tr style=\"text-align: right;\">\n",
              "      <th></th>\n",
              "      <th>phone_access</th>\n",
              "      <th>account</th>\n",
              "      <th>frequency</th>\n",
              "    </tr>\n",
              "  </thead>\n",
              "  <tbody>\n",
              "    <tr>\n",
              "      <th>0</th>\n",
              "      <td>No</td>\n",
              "      <td>No</td>\n",
              "      <td>5902</td>\n",
              "    </tr>\n",
              "    <tr>\n",
              "      <th>1</th>\n",
              "      <td>No</td>\n",
              "      <td>Yes</td>\n",
              "      <td>104</td>\n",
              "    </tr>\n",
              "    <tr>\n",
              "      <th>2</th>\n",
              "      <td>Yes</td>\n",
              "      <td>No</td>\n",
              "      <td>14139</td>\n",
              "    </tr>\n",
              "    <tr>\n",
              "      <th>3</th>\n",
              "      <td>Yes</td>\n",
              "      <td>Yes</td>\n",
              "      <td>3191</td>\n",
              "    </tr>\n",
              "  </tbody>\n",
              "</table>\n",
              "</div>"
            ],
            "text/plain": [
              "  phone_access account  frequency\n",
              "0           No      No       5902\n",
              "1           No     Yes        104\n",
              "2          Yes      No      14139\n",
              "3          Yes     Yes       3191"
            ]
          },
          "metadata": {
            "tags": []
          },
          "execution_count": 329
        }
      ]
    },
    {
      "cell_type": "code",
      "metadata": {
        "id": "mQuRwUP2DhD-",
        "colab_type": "code",
        "colab": {
          "base_uri": "https://localhost:8080/",
          "height": 288
        },
        "outputId": "fbb1c675-5047-4d9f-dbdf-ea7de9089ff4"
      },
      "source": [
        "#Respondents with an account bar chart\n",
        "plt.bar(f['account'], f['frequency'])\n",
        "plt.title(\"Account Access Bar Chart\")\n",
        "plt.xlabel(\"Account\")\n",
        "plt.ylabel(\"Frequency\")\n",
        "plt.tight_layout()\n",
        "plt.show()"
      ],
      "execution_count": 330,
      "outputs": [
        {
          "output_type": "display_data",
          "data": {
            "image/png": "[encoded data removed]",
            "text/plain": [
              "<Figure size 432x288 with 1 Axes>"
            ]
          },
          "metadata": {
            "tags": []
          }
        }
      ]
    },
    {
      "cell_type": "code",
      "metadata": {
        "id": "k70rd3IAFkmi",
        "colab_type": "code",
        "colab": {
          "base_uri": "https://localhost:8080/",
          "height": 288
        },
        "outputId": "5e24220a-7224-4421-9a47-9f8a2dd0f550"
      },
      "source": [
        "#Respondents with phone access\n",
        "b = data4.phone_access.value_counts()\n",
        "b.to_frame()\n",
        "k = b.reset_index(name = 'frequency').rename(columns = {'0':'', 'index':'phone_access'})\n",
        "k\n",
        "plt.bar(k['phone_access'], k['frequency'])\n",
        "plt.title(\"Phone Access Bar Chart\")\n",
        "plt.xlabel(\"Phone Access\")\n",
        "plt.ylabel(\"Frequency\")\n",
        "plt.tight_layout()\n",
        "plt.show()\n",
        "# Bar chart reveals a higher number of the respondents had access to a cell phone"
      ],
      "execution_count": 331,
      "outputs": [
        {
          "output_type": "display_data",
          "data": {
            "image/png": "[encoded data removed]",
            "text/plain": [
              "<Figure size 432x288 with 1 Axes>"
            ]
          },
          "metadata": {
            "tags": []
          }
        }
      ]
    },
    {
      "cell_type": "code",
      "metadata": {
        "id": "3wc0TPqeKGGe",
        "colab_type": "code",
        "colab": {
          "base_uri": "https://localhost:8080/",
          "height": 288
        },
        "outputId": "f8d2a2d1-e5ac-45b9-a5eb-ca0d01cb99c0"
      },
      "source": [
        "#Histogram of Respondents' Ages\n",
        "\n",
        "bins = [0,20,40,60,80,100]\n",
        "plt.hist(data4['age'],bins = bins, edgecolor ='black' )\n",
        "plt.title(\"Age Histogram\")\n",
        "plt.xlabel(\"Age\")\n",
        "plt.ylabel(\"Frequency\")\n",
        "plt.tight_layout()\n",
        "plt.show()\n",
        "\n",
        "#The Histogram indicates majority of the respondents ages lies between 20-40 years"
      ],
      "execution_count": 333,
      "outputs": [
        {
          "output_type": "display_data",
          "data": {
            "image/png": "[encoded data removed]",
            "text/plain": [
              "<Figure size 432x288 with 1 Axes>"
            ]
          },
          "metadata": {
            "tags": []
          }
        }
      ]
    },
    {
      "cell_type": "code",
      "metadata": {
        "id": "hNc_ppMWCSlm",
        "colab_type": "code",
        "colab": {
          "base_uri": "https://localhost:8080/",
          "height": 287
        },
        "outputId": "db14ff89-825c-4274-8703-095538400893"
      },
      "source": [
        "#Descriptive statistics of data4\n",
        "data4.describe()\n",
        "\n",
        "#Results below indicate standard deviation of 2 and 17 for household and age respectively\n",
        "#standard deviation of 2 means the mean and median household values are close to each other and the curve is tall and narrow\n",
        "#standard deviation of 17 means the mean and median age values are close to each other and the curve is short and wide"
      ],
      "execution_count": 334,
      "outputs": [
        {
          "output_type": "execute_result",
          "data": {
            "text/html": [
              "<div>\n",
              "<style scoped>\n",
              "    .dataframe tbody tr th:only-of-type {\n",
              "        vertical-align: middle;\n",
              "    }\n",
              "\n",
              "    .dataframe tbody tr th {\n",
              "        vertical-align: top;\n",
              "    }\n",
              "\n",
              "    .dataframe thead th {\n",
              "        text-align: right;\n",
              "    }\n",
              "</style>\n",
              "<table border=\"1\" class=\"dataframe\">\n",
              "  <thead>\n",
              "    <tr style=\"text-align: right;\">\n",
              "      <th></th>\n",
              "      <th>household</th>\n",
              "      <th>age</th>\n",
              "    </tr>\n",
              "  </thead>\n",
              "  <tbody>\n",
              "    <tr>\n",
              "      <th>count</th>\n",
              "      <td>23,336</td>\n",
              "      <td>23,336</td>\n",
              "    </tr>\n",
              "    <tr>\n",
              "      <th>mean</th>\n",
              "      <td>4</td>\n",
              "      <td>39</td>\n",
              "    </tr>\n",
              "    <tr>\n",
              "      <th>std</th>\n",
              "      <td>2</td>\n",
              "      <td>17</td>\n",
              "    </tr>\n",
              "    <tr>\n",
              "      <th>min</th>\n",
              "      <td>1</td>\n",
              "      <td>16</td>\n",
              "    </tr>\n",
              "    <tr>\n",
              "      <th>25%</th>\n",
              "      <td>2</td>\n",
              "      <td>26</td>\n",
              "    </tr>\n",
              "    <tr>\n",
              "      <th>50%</th>\n",
              "      <td>3</td>\n",
              "      <td>35</td>\n",
              "    </tr>\n",
              "    <tr>\n",
              "      <th>75%</th>\n",
              "      <td>5</td>\n",
              "      <td>49</td>\n",
              "    </tr>\n",
              "    <tr>\n",
              "      <th>max</th>\n",
              "      <td>16</td>\n",
              "      <td>100</td>\n",
              "    </tr>\n",
              "  </tbody>\n",
              "</table>\n",
              "</div>"
            ],
            "text/plain": [
              "       household    age\n",
              "count     23,336 23,336\n",
              "mean           4     39\n",
              "std            2     17\n",
              "min            1     16\n",
              "25%            2     26\n",
              "50%            3     35\n",
              "75%            5     49\n",
              "max           16    100"
            ]
          },
          "metadata": {
            "tags": []
          },
          "execution_count": 334
        }
      ]
    },
    {
      "cell_type": "code",
      "metadata": {
        "id": "j5q72fUtEco1",
        "colab_type": "code",
        "colab": {
          "base_uri": "https://localhost:8080/",
          "height": 87
        },
        "outputId": "59d68309-f040-4a2f-848e-a3d63aa4dba9"
      },
      "source": [
        "#Finding median\n",
        "data4.median()"
      ],
      "execution_count": 335,
      "outputs": [
        {
          "output_type": "execute_result",
          "data": {
            "text/plain": [
              "year        2,017\n",
              "household       3\n",
              "age            35\n",
              "dtype: float64"
            ]
          },
          "metadata": {
            "tags": []
          },
          "execution_count": 335
        }
      ]
    },
    {
      "cell_type": "code",
      "metadata": {
        "id": "ZDJ3TgQIFZXI",
        "colab_type": "code",
        "colab": {
          "base_uri": "https://localhost:8080/",
          "height": 87
        },
        "outputId": "7acdf2b1-24ed-4448-d4af-bc36b50bd97d"
      },
      "source": [
        "#Checking Skewness\n",
        "data4.skew()\n",
        "\n",
        "#The household numbers and age are skewed to the right by 1 indicating they are almost approaching\n",
        "#a normal distribution curve. The year is a perfect normal distribution"
      ],
      "execution_count": 336,
      "outputs": [
        {
          "output_type": "execute_result",
          "data": {
            "text/plain": [
              "year        0\n",
              "household   1\n",
              "age         1\n",
              "dtype: float64"
            ]
          },
          "metadata": {
            "tags": []
          },
          "execution_count": 336
        }
      ]
    },
    {
      "cell_type": "code",
      "metadata": {
        "id": "4hSWnEkKGNG3",
        "colab_type": "code",
        "colab": {
          "base_uri": "https://localhost:8080/",
          "height": 87
        },
        "outputId": "a2f57555-e47d-4b30-8fb3-9356bfe7e9da"
      },
      "source": [
        "#Checking Kurtosis\n",
        "#skewness and/or kurtosis that exceed +/-1 are considered non-normal\n",
        "data4.kurtosis()\n",
        "\n",
        "#From the results, Age and household have normal peaks indicating normal distributions "
      ],
      "execution_count": 337,
      "outputs": [
        {
          "output_type": "execute_result",
          "data": {
            "text/plain": [
              "year        -2\n",
              "household    1\n",
              "age          0\n",
              "dtype: float64"
            ]
          },
          "metadata": {
            "tags": []
          },
          "execution_count": 337
        }
      ]
    },
    {
      "cell_type": "code",
      "metadata": {
        "id": "Fbr8U6gII2lZ",
        "colab_type": "code",
        "colab": {
          "base_uri": "https://localhost:8080/",
          "height": 70
        },
        "outputId": "38ae5b40-28a5-446c-d455-ba092686a120"
      },
      "source": [
        "#Checking Variance\n",
        "data4.var()\n",
        "\n",
        "#Results show a very high variance in age indicating the ages of respondents are \n",
        "#very spread out from the average age of 39 years"
      ],
      "execution_count": 338,
      "outputs": [
        {
          "output_type": "execute_result",
          "data": {
            "text/plain": [
              "household     5\n",
              "age         273\n",
              "dtype: float64"
            ]
          },
          "metadata": {
            "tags": []
          },
          "execution_count": 338
        }
      ]
    },
    {
      "cell_type": "code",
      "metadata": {
        "id": "nTbgzTPEMvKC",
        "colab_type": "code",
        "colab": {
          "base_uri": "https://localhost:8080/",
          "height": 70
        },
        "outputId": "663689ca-f12f-4953-a000-6f4288c8e96a"
      },
      "source": [
        "#Inter Quartile Range as a measure of dispersion\n",
        "lowerquantile = data4.quantile(0.25)\n",
        "upperquantile = data4.quantile(0.75)\n",
        "IQRange = upperquantile - lowerquantile\n",
        "print(IQRange)\n",
        "\n",
        "#The values indicate a lower dispersion in household and higher dispersion in age of respondents"
      ],
      "execution_count": 339,
      "outputs": [
        {
          "output_type": "stream",
          "text": [
            "household    3\n",
            "age         23\n",
            "dtype: float64\n"
          ],
          "name": "stdout"
        }
      ]
    },
    {
      "cell_type": "markdown",
      "metadata": {
        "id": "3gCyGfLWBCE0",
        "colab_type": "text"
      },
      "source": [
        "######Recommendations"
      ]
    },
    {
      "cell_type": "markdown",
      "metadata": {
        "id": "p0F6O98ABGp5",
        "colab_type": "text"
      },
      "source": [
        "\n",
        "\n",
        "1.   We must obtain a different dataset that contains numerical variables that are both continuous and discrete ones to proper analyse the data\n",
        "2.   \n",
        "\n"
      ]
    },
    {
      "cell_type": "markdown",
      "metadata": {
        "colab_type": "text",
        "id": "a2fSzHMoQM57"
      },
      "source": [
        "######Bivariate summaries"
      ]
    },
    {
      "cell_type": "code",
      "metadata": {
        "id": "Nxlhr64momlu",
        "colab_type": "code",
        "colab": {
          "base_uri": "https://localhost:8080/",
          "height": 87
        },
        "outputId": "33c64332-0856-423a-8082-35c293738b45"
      },
      "source": [
        "#Correlation using Pearsons Coefficient\n",
        "\n",
        "#Encoding job_type from ordinal to numerical\n",
        "\n",
        "list1  =['No Income','Dont Know/Refuse to answer']\n",
        "list2 = ['Other Income']\n",
        "list3  =['Remittance Dependent', 'Government Dependent']\n",
        "list4  =['Self employed','Farming and Fishing']\n",
        "list5 = ['Formally employed Private', 'Informally employed','Formally employed Government']\n",
        "\n",
        "data5['job_type_encoded'] = data4['job_type'].map({'list1':0, 'list2':1,'list3':2,'list4':3,'list5':4, })\n",
        "\n",
        "#Encoding account access from nominal to numerical\n",
        "data5['account_encoded'] = data4['account'].map({'Yes':1, 'No':0})\n",
        "\n",
        "#label-encoding education from ordinal to numerical\n",
        "data5['education_encoded'] = data4['education'].map({'No formal education':0, 'Other/Dont know/RTA':1,'Primary education':2, 'Secondary education':3, 'Vocational/Specialised training':4,'Tertiary education':5 })\n",
        "\n",
        "#correlation betweeen level of education and account access is weak\n",
        "pearson_coeff = data5[\"account_encoded\"].corr(data5[\"education_encoded\"], method=\"pearson\") \n",
        "print(\"Education and account access:\", pearson_coeff)\n",
        "\n",
        "#There is no correlation between type of job and account access\n",
        "pearson_coeff1 = data5[\"account_encoded\"].corr(data5[\"job_type_encoded\"], method=\"pearson\") \n",
        "print(\"Job type and account access:\", pearson_coeff1)\n",
        "\n",
        "#There is no correlation between Age and account access\n",
        "pearson_coeff2 = data5[\"account_encoded\"].corr(data5[\"age\"], method=\"pearson\") \n",
        "print(\"Age and account access:\", pearson_coeff2)\n",
        "\n",
        "#There is no correlation between Household size and account access\n",
        "pearson_coeff2 = data5[\"account_encoded\"].corr(data5[\"household\"], method=\"pearson\") \n",
        "print(\"Household size and account access:\", pearson_coeff2)"
      ],
      "execution_count": 350,
      "outputs": [
        {
          "output_type": "stream",
          "text": [
            "Education and account access: 0.3247126581648607\n",
            "Job type and account access: nan\n",
            "Age and account access: 0.01940857412669863\n",
            "Household size and account access: -0.024112588039648646\n"
          ],
          "name": "stdout"
        }
      ]
    },
    {
      "cell_type": "code",
      "metadata": {
        "id": "5nnRToniXGDK",
        "colab_type": "code",
        "colab": {
          "base_uri": "https://localhost:8080/",
          "height": 582
        },
        "outputId": "b989aeb7-c54f-492f-def8-602e55d67c7f"
      },
      "source": [
        "# Ploting the bivariate summaries and recording our observations\n",
        "\n",
        "#Using a ScatterPlot Matrix to see access to an account compared to age and number of respondents\n",
        "\n",
        "plt.style.use('fivethirtyeight')\n",
        "\n",
        "sns.pairplot(data4, hue=\"account\")"
      ],
      "execution_count": 351,
      "outputs": [
        {
          "output_type": "execute_result",
          "data": {
            "text/plain": [
              "<seaborn.axisgrid.PairGrid at 0x7f223b6401d0>"
            ]
          },
          "metadata": {
            "tags": []
          },
          "execution_count": 351
        },
        {
          "output_type": "display_data",
          "data": {
            "image/png": "[encoded data removed]",
            "text/plain": [
              "<Figure size 613.025x540 with 12 Axes>"
            ]
          },
          "metadata": {
            "tags": []
          }
        }
      ]
    },
    {
      "cell_type": "code",
      "metadata": {
        "id": "Ibk83-Y7u9mA",
        "colab_type": "code",
        "colab": {
          "base_uri": "https://localhost:8080/",
          "height": 390
        },
        "outputId": "80fd1c28-e951-49f4-85d5-51ea4669d84c"
      },
      "source": [
        "#p dataframe is from univariate summaries\n",
        "\n",
        "#Scatterplot\n",
        "\n",
        "p['phone_access_encoding'] = p['phone_access'].map({'Yes':1, 'No':0})\n",
        "\n",
        "fig = plt.figure()\n",
        "plt.rcParams['figure.figsize'] = [15,10]\n",
        "fontdict={'fontsize': 25,\n",
        "          'weight' : 'bold'}\n",
        "\n",
        "fontdicty={'fontsize': 18,\n",
        "          'weight' : 'bold',\n",
        "          'verticalalignment': 'baseline',\n",
        "          'horizontalalignment': 'center'}\n",
        "\n",
        "ax1 = fig.add_subplot(221)\n",
        "ax1.scatter('country', 'frequency', data=p[p['phone_access_encoding']==1], c=\"green\")\n",
        "ax1.set_title('Phone Access by Country Scatter Plot', color=\"black\")\n",
        "ax1.set_ylabel(\"Number of Respondents/Frequency\")\n",
        "\n",
        "ax2 = fig.add_subplot(221)\n",
        "ax2.scatter('country', 'frequency', data=p[p['phone_access_encoding']==0], c=\"red\")\n",
        "ax2.set_title('Phone Access by Country Scatter Plot', color=\"black\")\n",
        "ax2.set_ylabel(\"Respondents/Frequency\")\n",
        "\n",
        "#Scatter plot shows Rwanda has highest number of respondents with access to phones\n",
        "#Tanzania has highest number of respondents with no access to phones"
      ],
      "execution_count": 354,
      "outputs": [
        {
          "output_type": "stream",
          "text": [
            "/usr/local/lib/python3.6/dist-packages/ipykernel_launcher.py:22: MatplotlibDeprecationWarning: Adding an axes using the same arguments as a previous axes currently reuses the earlier instance.  In a future version, a new instance will always be created and returned.  Meanwhile, this warning can be suppressed, and the future behavior ensured, by passing a unique label to each axes instance.\n"
          ],
          "name": "stderr"
        },
        {
          "output_type": "execute_result",
          "data": {
            "text/plain": [
              "Text(0, 0.5, 'Respondents/Frequency')"
            ]
          },
          "metadata": {
            "tags": []
          },
          "execution_count": 354
        },
        {
          "output_type": "display_data",
          "data": {
            "image/png": "[encoded data removed]",
            "text/plain": [
              "<Figure size 1080x720 with 1 Axes>"
            ]
          },
          "metadata": {
            "tags": []
          }
        }
      ]
    },
    {
      "cell_type": "code",
      "metadata": {
        "id": "pcxgQx_6S_BV",
        "colab_type": "code",
        "colab": {
          "base_uri": "https://localhost:8080/",
          "height": 678
        },
        "outputId": "aba352cc-66a1-4453-f656-2b1b441fb877"
      },
      "source": [
        "#Categorical and numerical\n",
        "\n",
        "#Line Chart showing level of education vs access to an account\n",
        "\n",
        "#label-encoding education to numerical\n",
        "data4['education_encoded'] = data4['education'].map({'No formal education':0, 'Other/Dont know/RTA':1,'Primary education':2, 'Secondary education':3, 'Vocational/Specialised training':4,'Tertiary education':5 })\n",
        "\n",
        "n = data4.groupby(['account','education_encoded']).size().reset_index(name = 'frequency').rename(columns = {'0':''})\n",
        "\n",
        "n_new = sns.lineplot(x=\"education_encoded\", y=\"frequency\", hue=\"account\", data=n)\n",
        "# Giving a title to our line graph\n",
        "plt.title(\"Level of Education and Account Access\", fontsize=14, y=1.015)\n",
        "\n",
        "# Labelling the y-axis\n",
        "plt.ylabel('Frequency')\n",
        "\n",
        "# Labelling the x-axis\n",
        "plt.xlabel('Level of Education')\n",
        "\n",
        "# Displaying our graph\n",
        "plt.show()\n",
        "\n",
        "#The line graphm shows the level of education does not equate to financial inclusion\\access to an account but \n",
        "#there is a small relationship between levels of education 1 and 2 .ie more tertiary level respondents have access to an account\n"
      ],
      "execution_count": 355,
      "outputs": [
        {
          "output_type": "display_data",
          "data": {
            "image/png": "[encoded data removed]",
            "text/plain": [
              "<Figure size 1080x720 with 1 Axes>"
            ]
          },
          "metadata": {
            "tags": []
          }
        }
      ]
    },
    {
      "cell_type": "markdown",
      "metadata": {
        "id": "w_6FvvA3BYm2",
        "colab_type": "text"
      },
      "source": [
        "######Recommendations"
      ]
    },
    {
      "cell_type": "markdown",
      "metadata": {
        "id": "QuVAyzccBcIf",
        "colab_type": "text"
      },
      "source": [
        "\n",
        "\n",
        "*  We must have a dataset that contains continuous numerical variables\n",
        "*  We must be given a dataset that contains the populations of the respective countries and the standard deviations so we can perform a Z-score test to accept or reject the null hypothesis. Otherwise a t-test would suffice.\n",
        "\n",
        "\n",
        "\n",
        "\n",
        "\n"
      ]
    },
    {
      "cell_type": "markdown",
      "metadata": {
        "colab_type": "text",
        "id": "0s9iLFoQGyhF"
      },
      "source": [
        "######Multivariate summaries"
      ]
    },
    {
      "cell_type": "code",
      "metadata": {
        "id": "qzs0cnY_G3TG",
        "colab_type": "code",
        "colab": {}
      },
      "source": [
        "#Testing for Multicollinearity\n",
        "\n",
        "from scipy import stats\n",
        "import matplotlib.pyplot as plt\n",
        "import statsmodels.api as sm\n",
        "from statsmodels.stats import diagnostic as diag\n",
        "from statsmodels.stats.outliers_influence import variance_inflation_factor\n",
        "from sklearn.linear_model import LinearRegression\n",
        "from sklearn.model_selection import train_test_split\n",
        "from sklearn.metrics import mean_squared_error, r2_score, mean_absolute_error\n",
        "%matplotlib inline\n",
        "\n",
        "data4_before = data4\n",
        "\n",
        "#Creating a series for both\n",
        "X1 = sm.tools.add_constant(data4_before)\n",
        "\n",
        "series_before = pd.Series([variance_inflation_factor(X1.values,i) for i in range(X1.shape[1])], index = X1.columns)\n",
        "\n",
        "#displaying the series\n",
        "print(\"Data Before\")\n",
        "print(\"-\"*100)\n",
        "display(series_before)\n",
        "\n",
        "\n"
      ],
      "execution_count": null,
      "outputs": []
    },
    {
      "cell_type": "code",
      "metadata": {
        "id": "nDgDPYf80v1w",
        "colab_type": "code",
        "colab": {}
      },
      "source": [
        "#Reduction Technique using Principal Component Analysis\n",
        "\n",
        "%matplotlib inline\n",
        "from sklearn.preprocessing import StandardScaler # for standardizing the Data\n",
        "from sklearn.decomposition import PCA # for PCA calculation\n",
        "\n",
        "\n",
        "#Encoding country from ordinal to numerical\n",
        "data5['country_encoded'] = data4['country'].map({'Kenya':0, 'Uganda':1,'Tanzania':2, 'Rwanda':3})\n",
        "\n",
        "#Encoding year from ordinal to numerical\n",
        "data5['year_encoded'] = data4['year'].map({'2016':0, '2017':1,'2018':2})\n",
        "\n",
        "#Encoding location from nominal to numerical\n",
        "data5['location_encoded'] = data4['location'].map({'Urban':0, 'Rural':1})\n",
        "\n",
        "#Encoding r-gender from nominal to numerical\n",
        "data5['r_gender_encoded'] = data4['r_gender'].map({'Urban':0, 'Rural':1})\n",
        "\n",
        "#Encoding phone_access from nominal to numerical\n",
        "data5['phone_access_encoded'] = data4['phone_access'].map({'Yes':1, 'No':0})\n",
        "\n",
        "data6 = data5.drop(['country', 'phone_access','year', 'account', 'location', 'household','r_gender', 'role', 'marital_status', 'education', 'job_type'], axis = 1)\n",
        "\n",
        "#Dropping nan values\n",
        "data7 = data6.drop(['job_type_encoded', 'r_gender_encoded'], axis = 1)\n",
        "# getting all values as a matrix of dataframe\n",
        "X = data6.values\n",
        "\n",
        "sc = StandardScaler() # creating a StandardScaler object\n",
        "\n",
        "X_std = sc.fit_transform(X) # standardizing the data\n",
        "\n",
        "pca = PCA()\n",
        "X_pca = pca.fit(X_std)\n",
        "\n"
      ],
      "execution_count": null,
      "outputs": []
    },
    {
      "cell_type": "markdown",
      "metadata": {
        "id": "LEj7nLdyAMay",
        "colab_type": "text"
      },
      "source": [
        "######Recomendations "
      ]
    },
    {
      "cell_type": "markdown",
      "metadata": {
        "id": "4Ek98V0ZAbCA",
        "colab_type": "text"
      },
      "source": [
        "1.   To effectively perform Univariate and Multivariate analysis, the dataset must contain some numerical variables which are continuous. Not just ordinal, nominal and categorical variables.\n",
        "2.   Variables like income should be included in the dataset.\n",
        "\n"
      ]
    },
    {
      "cell_type": "markdown",
      "metadata": {
        "id": "vTbdjSrhVIiT",
        "colab_type": "text"
      },
      "source": [
        "## 7. Implementing the Solution"
      ]
    },
    {
      "cell_type": "code",
      "metadata": {
        "id": "PJLZaRzJXJ3w",
        "colab_type": "code",
        "colab": {}
      },
      "source": [
        "#Its challenging to implement the solution when the dataset does not have all the necessary statistical data types for variables"
      ],
      "execution_count": null,
      "outputs": []
    },
    {
      "cell_type": "markdown",
      "metadata": {
        "id": "lQ2G4ZPDVOXE",
        "colab_type": "text"
      },
      "source": [
        "## 8. Challenging the solution"
      ]
    },
    {
      "cell_type": "markdown",
      "metadata": {
        "id": "jWVGKGuiYMWg",
        "colab_type": "text"
      },
      "source": [
        "> Some few metrics for success were obtained as described in the comments in the analysis figures/plots. However, I challenge those solutions because its was not possible to fully exhaust univariate, bivariate and multivariate analysis on the current dataset provided.\n",
        "\n",
        "\n",
        "\n"
      ]
    },
    {
      "cell_type": "markdown",
      "metadata": {
        "id": "xrmHVMVsVS--",
        "colab_type": "text"
      },
      "source": [
        "## 9. Follow up questions"
      ]
    },
    {
      "cell_type": "markdown",
      "metadata": {
        "id": "HPQviDmNtta8",
        "colab_type": "text"
      },
      "source": [
        "### a). Did we have the right data?\n",
        "\n",
        "\n",
        "*   We did not have the right data\n",
        "\n"
      ]
    },
    {
      "cell_type": "markdown",
      "metadata": {
        "id": "qjFHK1CKty7o",
        "colab_type": "text"
      },
      "source": [
        "### b). Do we need other data to answer our question?\n",
        "\n",
        "*   We need additional data to answer the question. Data that contains variables such as income/salary, sales, profits etc\n",
        "\n"
      ]
    },
    {
      "cell_type": "markdown",
      "metadata": {
        "id": "HSsicSdvt4Zs",
        "colab_type": "text"
      },
      "source": [
        "### c). Did we have the right question?\n",
        "\n",
        "\n",
        "\n",
        "*   The question was somewhat correct but can be improved if the right dataset is provided.\n",
        "\n"
      ]
    }
  ]
}